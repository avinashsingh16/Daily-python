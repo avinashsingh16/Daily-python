{
  "nbformat": 4,
  "nbformat_minor": 0,
  "metadata": {
    "kernelspec": {
      "display_name": "Python 3",
      "name": "python3"
    },
    "language_info": {
      "codemirror_mode": {
        "name": "ipython",
        "version": 3
      },
      "file_extension": ".py",
      "mimetype": "text/x-python",
      "name": "python",
      "nbconvert_exporter": "python",
      "pygments_lexer": "ipython3",
      "version": "3.7.4"
    },
    "colab": {
      "provenance": [],
      "include_colab_link": true
    }
  },
  "cells": [
    {
      "cell_type": "markdown",
      "metadata": {
        "id": "view-in-github",
        "colab_type": "text"
      },
      "source": [
        "<a href=\"https://colab.research.google.com/github/avinashsingh16/Daily-python/blob/main/Introduction_to_Lists.ipynb\" target=\"_parent\"><img src=\"https://colab.research.google.com/assets/colab-badge.svg\" alt=\"Open In Colab\"/></a>"
      ]
    },
    {
      "cell_type": "markdown",
      "metadata": {
        "id": "t4O7WDUFjkFq"
      },
      "source": [
        "## <u>While doing this assignment only use those concepts which have been taught till now</u>"
      ]
    },
    {
      "cell_type": "markdown",
      "metadata": {
        "id": "KB9ZI2xAjkF6"
      },
      "source": [
        "## <u>Problem 1</u>\n",
        "\n",
        "A list contains the average daily temperature(in degree Celsius) of a city over a particular week. Write a Python code to swap the highest and the lowest temperatures"
      ]
    },
    {
      "cell_type": "code",
      "metadata": {
        "id": "O3ZtUcxsjkF7"
      },
      "source": [
        "# A list containing average daily temperature over a week\n",
        "temperatures = [34, 40, 29, 33, 42, 37, 39 ]\n",
        "\n",
        "# The expected output\n",
        "# output_temperatures = [34, 40, 42, 33, 29, 37, 39]"
      ],
      "execution_count": 1,
      "outputs": []
    },
    {
      "cell_type": "code",
      "metadata": {
        "id": "HRFHv7OXjkGR",
        "outputId": "83330a2c-03d4-4864-8159-9f7708b95be2",
        "colab": {
          "base_uri": "https://localhost:8080/"
        }
      },
      "source": [
        "# Store the highest temperature\n",
        "max_temp = max(temperatures)\n",
        "# print(max_temp)\n",
        "\n",
        "# Index of the element with the highest temperature\n",
        "max_temp_index = temperatures.index(max_temp)\n",
        "max_temp_index"
      ],
      "execution_count": 2,
      "outputs": [
        {
          "output_type": "execute_result",
          "data": {
            "text/plain": [
              "4"
            ]
          },
          "metadata": {},
          "execution_count": 2
        }
      ]
    },
    {
      "cell_type": "code",
      "metadata": {
        "id": "8lsfVKbcjkGW",
        "outputId": "a70a00d2-248f-479d-e76e-675b52bd4eda",
        "colab": {
          "base_uri": "https://localhost:8080/"
        }
      },
      "source": [
        "# Store the lowest temperature\n",
        "min_temp = min(temperatures)\n",
        "\n",
        "# Index of the element with the lowest temperature\n",
        "min_temp_index = temperatures.index(min_temp)\n",
        "min_temp_index"
      ],
      "execution_count": 3,
      "outputs": [
        {
          "output_type": "execute_result",
          "data": {
            "text/plain": [
              "2"
            ]
          },
          "metadata": {},
          "execution_count": 3
        }
      ]
    },
    {
      "cell_type": "code",
      "metadata": {
        "id": "W8UkX2IHjkGc"
      },
      "source": [
        "# Swap the highest and the lowest temperatures\n",
        "\n",
        "temperatures[max_temp_index] = min_temp\n",
        "temperatures[min_temp_index] = max_temp"
      ],
      "execution_count": 5,
      "outputs": []
    },
    {
      "cell_type": "code",
      "metadata": {
        "id": "2UpeOQ7qjkGg",
        "outputId": "99661c22-9d4a-407a-b4c0-a0b2f17244c0",
        "colab": {
          "base_uri": "https://localhost:8080/"
        }
      },
      "source": [
        "# Print the output list\n",
        "print(temperatures)"
      ],
      "execution_count": 6,
      "outputs": [
        {
          "output_type": "stream",
          "name": "stdout",
          "text": [
            "[34, 40, 42, 33, 29, 37, 39]\n"
          ]
        }
      ]
    },
    {
      "cell_type": "markdown",
      "metadata": {
        "id": "zxqe73yrjkGi"
      },
      "source": [
        "\n",
        "## <u>Problem 2 </u>\n",
        "\n",
        "### Measures of Averages\n",
        "\n",
        "* Mean of a group is defined as the sum of the elements in the group divided by the number of elements in the group.\n",
        "* Median is the middle number in a <b>sorted</b>, ascending or descending, list of numbers. If the list has $N$ numbers where $N$ is odd, then median is the element in the middle i.e, $(\\frac{N+1}{2})^{th}$ element. If $N$ is even, then median is the mean of $(\\frac{N}{2})^{th}$ and $(\\frac{N}{2}+1)^{th}$ elements"
      ]
    },
    {
      "cell_type": "code",
      "metadata": {
        "id": "TNWp2uyVjkGi"
      },
      "source": [
        "# List of product prices\n",
        "\n",
        "prod_price_list = [400, 250, 800, 550, 600, 820, 720, 15000, 360,250]"
      ],
      "execution_count": 7,
      "outputs": []
    },
    {
      "cell_type": "code",
      "metadata": {
        "id": "KwenpH43jkGm",
        "colab": {
          "base_uri": "https://localhost:8080/"
        },
        "outputId": "428cc7fa-c9d0-4254-8756-aa37a4b5fca4"
      },
      "source": [
        "# Calculate the mean of the product prices. Use list functions. Also print the mean_price\n",
        "\n",
        "mean_price = sum(prod_price_list) / len(prod_price_list)\n",
        "mean_price"
      ],
      "execution_count": 9,
      "outputs": [
        {
          "output_type": "execute_result",
          "data": {
            "text/plain": [
              "1975.0"
            ]
          },
          "metadata": {},
          "execution_count": 9
        }
      ]
    },
    {
      "cell_type": "markdown",
      "metadata": {
        "id": "gTojysiqjkGr"
      },
      "source": [
        "### Calculate the median price"
      ]
    },
    {
      "cell_type": "code",
      "metadata": {
        "id": "5SBpWBGEjkGr",
        "colab": {
          "base_uri": "https://localhost:8080/"
        },
        "outputId": "82e5a2ce-877c-4add-9ab1-5789c47fca8c"
      },
      "source": [
        "# Step 1 - Obtain the sorted list. Print the sorted_prices\n",
        "sorted_prices = sorted(prod_price_list)\n",
        "sorted_prices"
      ],
      "execution_count": 11,
      "outputs": [
        {
          "output_type": "execute_result",
          "data": {
            "text/plain": [
              "[250, 250, 360, 400, 550, 600, 720, 800, 820, 15000]"
            ]
          },
          "metadata": {},
          "execution_count": 11
        }
      ]
    },
    {
      "cell_type": "code",
      "metadata": {
        "id": "29eoJETXjkGu",
        "colab": {
          "base_uri": "https://localhost:8080/"
        },
        "outputId": "e05fbac5-9290-4245-921a-021fa4a38f53"
      },
      "source": [
        "# Check if the number of elements in the list is even or odd\n",
        "check_no_even_odd = len(sorted_prices) % 2==0\n",
        "check_no_even_odd"
      ],
      "execution_count": 12,
      "outputs": [
        {
          "output_type": "execute_result",
          "data": {
            "text/plain": [
              "True"
            ]
          },
          "metadata": {},
          "execution_count": 12
        }
      ]
    },
    {
      "cell_type": "code",
      "metadata": {
        "id": "RiafM7R_jkGy",
        "colab": {
          "base_uri": "https://localhost:8080/"
        },
        "outputId": "b243c369-4175-4718-c7a9-7939bd7b913a"
      },
      "source": [
        "# Use the corresponding formula to calculate the median and print the median\n",
        "\n",
        "median_price = (sorted_prices[int(len(sorted_prices)/2)]) + sorted_prices[int((len(sorted_prices)/2)+ 1)]/2\n",
        "median_price"
      ],
      "execution_count": 21,
      "outputs": [
        {
          "output_type": "execute_result",
          "data": {
            "text/plain": [
              "960.0"
            ]
          },
          "metadata": {},
          "execution_count": 21
        }
      ]
    },
    {
      "cell_type": "code",
      "metadata": {
        "id": "brysk47ojkG0",
        "colab": {
          "base_uri": "https://localhost:8080/"
        },
        "outputId": "d53a4760-d059-451a-9f1b-f6a014ffd2f7"
      },
      "source": [
        "# Check which is greater, mean or median\n",
        "print(f'it is {mean_price > median_price} that mean price is greater than median price.')"
      ],
      "execution_count": 22,
      "outputs": [
        {
          "output_type": "stream",
          "name": "stdout",
          "text": [
            "it is True that mean price is greater than median price.\n"
          ]
        }
      ]
    },
    {
      "cell_type": "markdown",
      "metadata": {
        "id": "jB0y0UdbjkG3"
      },
      "source": [
        "### Why do you think that is the case??"
      ]
    },
    {
      "cell_type": "markdown",
      "metadata": {
        "id": "_JguWGM_-_ST"
      },
      "source": [
        "### <u>Write your explanation in this text cell</u>\n",
        "\n",
        "Your explanation :  "
      ]
    },
    {
      "cell_type": "markdown",
      "metadata": {
        "id": "J3x3tmzTjkG3"
      },
      "source": [
        "## <u> Problem 3 </u>\n",
        "\n",
        "Having a nested list sometimes might be a bit problematic. An individual was asked to collect the names of companies in the technology sector. While creating the list, by mistake the last three companies were subsumed in a list as shown below. You are required to get rid of the nesting"
      ]
    },
    {
      "cell_type": "code",
      "metadata": {
        "id": "6IbY26WqjkG4",
        "colab": {
          "base_uri": "https://localhost:8080/"
        },
        "outputId": "07ea1b8a-9ebe-415e-a7b1-3d9b98dc08a9"
      },
      "source": [
        "# The list of tech companies curated by the individual\n",
        "tech_companies = ['Qualcomm','Google','Apple',['Nvidia','Cisco','Samsung']]\n",
        "tech_companies\n",
        "# The final list that we want\n",
        "# correct_tech_companies = ['Qualcomm','Google','Apple','Nvidia','Cisco','Samsung']"
      ],
      "execution_count": 44,
      "outputs": [
        {
          "output_type": "execute_result",
          "data": {
            "text/plain": [
              "['Qualcomm', 'Google', 'Apple', ['Nvidia', 'Cisco', 'Samsung']]"
            ]
          },
          "metadata": {},
          "execution_count": 44
        }
      ]
    },
    {
      "cell_type": "code",
      "metadata": {
        "id": "anVH03bTjkG7",
        "colab": {
          "base_uri": "https://localhost:8080/"
        },
        "outputId": "4ca6d068-c482-4fb2-f494-5a1c271aeed6"
      },
      "source": [
        "# Write your code below\n",
        "last_list = tech_companies.pop(-1)\n",
        "last_list\n",
        "\n",
        "tech_companies.extend(last_list)\n",
        "tech_companies"
      ],
      "execution_count": 45,
      "outputs": [
        {
          "output_type": "execute_result",
          "data": {
            "text/plain": [
              "['Qualcomm', 'Google', 'Apple', 'Nvidia', 'Cisco', 'Samsung']"
            ]
          },
          "metadata": {},
          "execution_count": 45
        }
      ]
    },
    {
      "cell_type": "code",
      "metadata": {
        "id": "BsVsotOGjkG_"
      },
      "source": [
        "# Do the same task another way\n"
      ],
      "execution_count": null,
      "outputs": []
    }
  ]
}