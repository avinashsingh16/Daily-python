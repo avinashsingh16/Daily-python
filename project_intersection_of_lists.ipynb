{
  "nbformat": 4,
  "nbformat_minor": 0,
  "metadata": {
    "kernelspec": {
      "display_name": "Python 3",
      "language": "python",
      "name": "python3"
    },
    "language_info": {
      "codemirror_mode": {
        "name": "ipython",
        "version": 3
      },
      "file_extension": ".py",
      "mimetype": "text/x-python",
      "name": "python",
      "nbconvert_exporter": "python",
      "pygments_lexer": "ipython3",
      "version": "3.7.1"
    },
    "colab": {
      "provenance": [],
      "name": "project-intersection-of-lists.ipynb",
      "include_colab_link": true
    }
  },
  "cells": [
    {
      "cell_type": "markdown",
      "metadata": {
        "id": "view-in-github",
        "colab_type": "text"
      },
      "source": [
        "<a href=\"https://colab.research.google.com/github/avinashsingh16/Daily-python/blob/main/project_intersection_of_lists.ipynb\" target=\"_parent\"><img src=\"https://colab.research.google.com/assets/colab-badge.svg\" alt=\"Open In Colab\"/></a>"
      ]
    },
    {
      "cell_type": "markdown",
      "metadata": {
        "id": "rtBrwN-Aexbo"
      },
      "source": [
        "Given a list of lists, write a function which returns the intersection of all the lists.\n",
        "\n",
        "Example 1:\n",
        "\n",
        "```\n",
        "input = [[5, 5, 10],\n",
        "      [5, 5, 7, 8],\n",
        "      [5, 5, 8, 9, 11]]\n",
        "```\n",
        "\n",
        "```\n",
        "output = [5, 5]\n",
        "```\n",
        "\n",
        "Example 2:\n",
        "\n",
        "```\n",
        "input = [[5, 6],\n",
        "      [5, 5, 7, 8],\n",
        "      [5, 5, 8, 9]]\n",
        "```\n",
        "\n",
        "\n",
        "```\n",
        "output = [5]\n",
        "```"
      ]
    },
    {
      "cell_type": "markdown",
      "source": [
        "**Create a function to Find the common fruits (including duplicates) that appear in all fruit baskets.**\n",
        "\n",
        "\n",
        "fruit_baskets = [\n",
        "    [\"apple\", \"banana\", \"banana\", \"mango\"],\n",
        "    [\"banana\", \"banana\", \"kiwi\", \"apple\"],\n",
        "    [\"banana\", \"banana\", \"apple\", \"grapes\"]\n",
        "]"
      ],
      "metadata": {
        "id": "kVapxkjyHJ-I"
      }
    },
    {
      "cell_type": "code",
      "source": [
        "fruit_baskets = [ [\"apple\", \"banana\", \"banana\", \"mango\"], [\"banana\", \"banana\", \"kiwi\", \"apple\"], [\"banana\", \"banana\", \"apple\", \"grapes\"] ]"
      ],
      "metadata": {
        "id": "H4Av5GCeNnxY"
      },
      "execution_count": 2,
      "outputs": []
    },
    {
      "cell_type": "code",
      "source": [
        "def commonFruits(lsts_1):\n",
        "  min_len_fruit_list = lsts_1[0]\n",
        "  for fruit in lsts_1:\n",
        "    if len(fruit)<len(min_len_fruit_list):\n",
        "      min_len_fruit_list = fruit\n",
        "\n",
        "  fruit_dict = {}\n",
        "  for fruit in min_len_fruit_list:\n",
        "    if fruit in fruit_dict.keys():\n",
        "      fruit_dict[fruit] = fruit_dict[fruit] + 1\n",
        "    else:\n",
        "      fruit_dict[fruit] = 1\n",
        "\n",
        "  for fruit in fruit_dict.keys():\n",
        "    for basket in fruit_baskets:\n",
        "      count = 0\n",
        "      for item in basket:\n",
        "        if item == fruit:\n",
        "          count = count + 1\n",
        "\n",
        "      if fruit_dict[fruit]>count:\n",
        "        fruit_dict[fruit]=count\n",
        "\n",
        "  list_of_fruit = []\n",
        "  for key,value in fruit_dict.items():\n",
        "    for num in range(value):\n",
        "      list_of_fruit.append(key)\n",
        "\n",
        "  return list_of_fruit"
      ],
      "metadata": {
        "id": "VNpyQ5gkHZ8i"
      },
      "execution_count": 4,
      "outputs": []
    },
    {
      "cell_type": "code",
      "source": [
        "commonFruits(fruit_baskets)"
      ],
      "metadata": {
        "id": "lqcwOUAH7e-x",
        "outputId": "b88b93e5-a5e3-4d18-842f-bdfef7f85e11",
        "colab": {
          "base_uri": "https://localhost:8080/"
        }
      },
      "execution_count": 5,
      "outputs": [
        {
          "output_type": "execute_result",
          "data": {
            "text/plain": [
              "['apple', 'banana', 'banana']"
            ]
          },
          "metadata": {},
          "execution_count": 5
        }
      ]
    },
    {
      "cell_type": "markdown",
      "metadata": {
        "id": "_eBSo9ilXVqB"
      },
      "source": [
        "## Method 1"
      ]
    },
    {
      "cell_type": "markdown",
      "source": [],
      "metadata": {
        "id": "tC5roMxAHIIr"
      }
    },
    {
      "cell_type": "code",
      "metadata": {
        "id": "WN7kubRILTgw"
      },
      "source": [
        "lsts = [[5, 5],\n",
        "      [5, 5, 7, 8],\n",
        "      [5, 5, 8, 9]]"
      ],
      "execution_count": 1,
      "outputs": []
    },
    {
      "cell_type": "code",
      "metadata": {
        "id": "GRp0zkyuLTgz"
      },
      "source": [
        "def get_intersection_1(lsts):\n",
        "\n",
        "  min_len = len(lsts[0])\n",
        "  for l in lsts:\n",
        "      if len(l)<=min_len:\n",
        "          min_len = len(l)\n",
        "          min_len_list = l\n",
        "\n",
        "  d = {}\n",
        "  for elem in min_len_list:\n",
        "      if elem in d.keys():\n",
        "          d[elem] = d[elem]+1\n",
        "      else:\n",
        "          d[elem] = 1\n",
        "\n",
        "  for key in d.keys():\n",
        "    for l in lsts:\n",
        "      count = 0\n",
        "      for item in l:\n",
        "        if key==item:\n",
        "          count = count + 1\n",
        "\n",
        "      if d[key] > count:\n",
        "        d[key] = count\n",
        "\n",
        "  lst = []\n",
        "  for key, value in d.items():\n",
        "      for v in range(value):\n",
        "          lst.append(key)\n",
        "\n",
        "  return lst"
      ],
      "execution_count": null,
      "outputs": []
    },
    {
      "cell_type": "code",
      "metadata": {
        "id": "cAtjbPzrLThC",
        "colab": {
          "base_uri": "https://localhost:8080/",
          "height": 35
        },
        "outputId": "8dbd2277-dbce-4b74-f58e-d8048949baaf"
      },
      "source": [
        "get_intersection_1(lsts)"
      ],
      "execution_count": null,
      "outputs": [
        {
          "output_type": "execute_result",
          "data": {
            "text/plain": [
              "[5, 5]"
            ]
          },
          "metadata": {
            "tags": []
          },
          "execution_count": 3
        }
      ]
    },
    {
      "cell_type": "markdown",
      "metadata": {
        "id": "STlQWSWRgJCe"
      },
      "source": [
        "*  Time Complexity: O(m^2 * n) where n -> no. of lists and m -> no. of elements in each list\n",
        "*  Auxiliary Space Complexity: O(m)\n",
        "\n"
      ]
    },
    {
      "cell_type": "markdown",
      "metadata": {
        "id": "a75cfTxPX4AB"
      },
      "source": [
        "## Method 2"
      ]
    },
    {
      "cell_type": "code",
      "metadata": {
        "id": "hYCX-PkcXMzL"
      },
      "source": [
        "lsts = [[5, 5],\n",
        "      [5, 5, 7, 8],\n",
        "      [5, 5, 8, 9]]"
      ],
      "execution_count": null,
      "outputs": []
    },
    {
      "cell_type": "code",
      "metadata": {
        "id": "K32V7RJRa4Sb"
      },
      "source": [
        "def get_intersection_2(lsts):\n",
        "\n",
        "  global_map = {}\n",
        "\n",
        "  for l in lsts:\n",
        "    temp_map = {}\n",
        "    for elem in l:\n",
        "      temp_map[elem] = temp_map.get(elem, 0) + 1\n",
        "\n",
        "    for key in temp_map:\n",
        "      if key not in global_map.keys():\n",
        "        global_map[key] = [1, temp_map[key]]\n",
        "      else:\n",
        "        value = global_map[key]\n",
        "        global_map[key] = [value[0] + 1, min(temp_map[key], value[1])]\n",
        "\n",
        "  answer_list = []\n",
        "  for key, value in global_map.items():\n",
        "    if value[0]==len(lsts):\n",
        "      answer_list += [key] * value[1]\n",
        "\n",
        "  return answer_list"
      ],
      "execution_count": null,
      "outputs": []
    },
    {
      "cell_type": "code",
      "metadata": {
        "id": "edmcmjjTY3Aj",
        "colab": {
          "base_uri": "https://localhost:8080/",
          "height": 35
        },
        "outputId": "94977e8e-f587-4289-ae9c-763113dc987a"
      },
      "source": [
        "get_intersection_2(lsts)"
      ],
      "execution_count": null,
      "outputs": [
        {
          "output_type": "execute_result",
          "data": {
            "text/plain": [
              "[5, 5]"
            ]
          },
          "metadata": {
            "tags": []
          },
          "execution_count": 6
        }
      ]
    },
    {
      "cell_type": "markdown",
      "source": [
        "Given a list of lists, find the elements that appear in all lists, including duplicates. The number of times it appears in the final output should be equal to the minimum number of times it appears in any list.\n",
        "\n",
        "\n",
        "lsts = [\n",
        "    ['apple', 'apple', 'banana'],\n",
        "    ['banana', 'banana', 'apple'],\n",
        "    ['apple', 'banana', 'banana']\n",
        "]"
      ],
      "metadata": {
        "id": "F8XFUd45Cyyv"
      }
    },
    {
      "cell_type": "code",
      "source": [
        "lsts = [ ['apple', 'apple', 'banana'], ['banana', 'banana', 'apple'], ['apple', 'banana', 'banana'] ]"
      ],
      "metadata": {
        "id": "S_mVA4ESDSgE"
      },
      "execution_count": 1,
      "outputs": []
    },
    {
      "cell_type": "code",
      "source": [
        "def get_intersection_2_again(lsts):\n",
        "  global_map = {}\n",
        "\n",
        "  for l in lsts:\n",
        "    temp_map ={}\n",
        "    for elem in l:\n",
        "      temp_map[elem] = temp_map.get(elem,0) + 1\n",
        "\n",
        "    for key in temp_map:\n",
        "      if key not in global_map:\n",
        "        global_map[key] = [1,temp_map[key]]\n",
        "      else:\n",
        "        value = global_map[key]\n",
        "        global_map[key] = [value[0]+1,min(temp_map[key],value[1])]\n",
        "\n",
        "  answer_list = []\n",
        "  for key,value in global_map.items():\n",
        "    if value[0]==len(lsts):\n",
        "      answer_list += [key] * value[1]\n",
        "\n",
        "  return answer_list\n",
        "\n",
        "\n"
      ],
      "metadata": {
        "id": "2FUeUAfEC--6"
      },
      "execution_count": 2,
      "outputs": []
    },
    {
      "cell_type": "code",
      "source": [
        "get_intersection_2_again(lsts)"
      ],
      "metadata": {
        "id": "5TYx_3N7HJNB",
        "outputId": "6c974a17-4974-4b4f-901a-f19160dbb09e",
        "colab": {
          "base_uri": "https://localhost:8080/"
        }
      },
      "execution_count": 4,
      "outputs": [
        {
          "output_type": "execute_result",
          "data": {
            "text/plain": [
              "['apple', 'banana']"
            ]
          },
          "metadata": {},
          "execution_count": 4
        }
      ]
    },
    {
      "cell_type": "code",
      "source": [
        "lsts = [\n",
        "  [1, 1, 2, 3],\n",
        "  [1, 2, 2, 4],\n",
        "  [1, 2, 5]\n",
        "]"
      ],
      "metadata": {
        "id": "waQ9h_dVH13E"
      },
      "execution_count": null,
      "outputs": []
    },
    {
      "cell_type": "code",
      "source": [
        "def get_intersection_from_lists(lsts):\n",
        "  global_map={}\n",
        "\n",
        "  for l in lsts:\n",
        "    temp_map = {}\n",
        "    for elem in l:\n",
        "      temp_map[elem]=temp_map.get(elem,0)+1\n",
        "\n",
        "    for key in temp_map:\n",
        "      if key not in global_map:\n",
        "        global_map[key] = [1,temp_map[key]]\n",
        "      else:\n",
        "        value = global_map[key]\n",
        "        global_map[key] = [value[0]+1,min(temp_map[key],value[1])]\n",
        "\n",
        "  answer_list = []\n",
        "  for key,value in global_map.items():\n",
        "    if value[0]==len(lsts):\n",
        "      answer_list += [key]*value[1]\n",
        "\n",
        "  return answer_list\n"
      ],
      "metadata": {
        "id": "pXOWtJZbH5Gc"
      },
      "execution_count": 5,
      "outputs": []
    },
    {
      "cell_type": "markdown",
      "metadata": {
        "id": "R_nvNiVQYRm9"
      },
      "source": [
        "*  Time Complexity: O(m * n) where n -> no. of lists and m -> no. of elements in each list\n",
        "*  Auxiliary Space Complexity: O(m * n)\n",
        "\n"
      ]
    },
    {
      "cell_type": "markdown",
      "metadata": {
        "id": "YPZ2-0ErY8f6"
      },
      "source": [
        "## Method 3"
      ]
    },
    {
      "cell_type": "code",
      "metadata": {
        "id": "Ai-qnKscZKys"
      },
      "source": [
        "lsts = [[5, 5],\n",
        "      [5, 5, 7, 8],\n",
        "      [5, 5, 8, 9]]"
      ],
      "execution_count": null,
      "outputs": []
    },
    {
      "cell_type": "code",
      "metadata": {
        "id": "0ZLhriAEXn0q"
      },
      "source": [
        "def get_frequency_map(l):\n",
        "  map_ = {}\n",
        "  for elem in l:\n",
        "    map_[elem] = map_.get(elem, 0) + 1\n",
        "  return map_"
      ],
      "execution_count": null,
      "outputs": []
    },
    {
      "cell_type": "code",
      "metadata": {
        "id": "lOmhj4jCXNdP"
      },
      "source": [
        "def get_intersection_3(lsts):\n",
        "\n",
        "  global_map = {}\n",
        "\n",
        "  for l in lsts:\n",
        "    temp_map = get_frequency_map(l)\n",
        "\n",
        "    for key in temp_map.keys():\n",
        "      if key not in global_map.keys():\n",
        "        global_map[key] = [1, temp_map[key]]\n",
        "      else:\n",
        "        value = global_map[key]\n",
        "        global_map[key] = [value[0] + 1, min(temp_map[key], value[1])]\n",
        "\n",
        "  answer_list = []\n",
        "  for key, value in global_map.items():\n",
        "    if value[0]==len(lsts):\n",
        "      answer_list += [key] * value[1]\n",
        "\n",
        "  return answer_list"
      ],
      "execution_count": null,
      "outputs": []
    },
    {
      "cell_type": "code",
      "metadata": {
        "id": "S66yoaVdZGXw",
        "colab": {
          "base_uri": "https://localhost:8080/",
          "height": 35
        },
        "outputId": "d8abe7c0-bf03-4fe0-bfd1-8fae64998662"
      },
      "source": [
        "get_intersection_3(lsts)"
      ],
      "execution_count": null,
      "outputs": [
        {
          "output_type": "execute_result",
          "data": {
            "text/plain": [
              "[5, 5]"
            ]
          },
          "metadata": {
            "tags": []
          },
          "execution_count": 10
        }
      ]
    },
    {
      "cell_type": "markdown",
      "metadata": {
        "id": "eGhqcyXRZCjE"
      },
      "source": [
        "*  Time Complexity: O(m * n) where n -> no. of lists and m -> no. of elements in each list\n",
        "*  Auxiliary Space Complexity: O(m * n)\n",
        "\n"
      ]
    }
  ]
}