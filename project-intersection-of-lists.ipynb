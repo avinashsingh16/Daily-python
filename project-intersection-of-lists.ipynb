{
 "cells": [
  {
   "cell_type": "markdown",
   "metadata": {
    "id": "rtBrwN-Aexbo"
   },
   "source": [
    "Given a list of lists, write a function which returns the intersection of all the lists.\n",
    "\n",
    "Example 1:\n",
    "\n",
    "```\n",
    "input = [[5, 5, 10],\n",
    "      [5, 5, 7, 8],\n",
    "      [5, 5, 8, 9, 11]]\n",
    "```\n",
    "\n",
    "```\n",
    "output = [5, 5]\n",
    "```\n",
    "\n",
    "Example 2:\n",
    "\n",
    "```\n",
    "input = [[5, 6],\n",
    "      [5, 5, 7, 8],\n",
    "      [5, 5, 8, 9]]\n",
    "```\n",
    "\n",
    "\n",
    "```\n",
    "output = [5]\n",
    "```"
   ]
  },
  {
   "cell_type": "code",
   "execution_count": 40,
   "metadata": {},
   "outputs": [],
   "source": [
    "list_of_list = [[5, 5,5,8, 10],\n",
    "      [5, 5, 7, 8],\n",
    "      [5, 5, 8, 9, 11]]"
   ]
  },
  {
   "cell_type": "code",
   "execution_count": 86,
   "metadata": {},
   "outputs": [],
   "source": [
    "def get_min_len_list(list_of_list):\n",
    "\n",
    "    min_len = len(list_of_list[0])\n",
    "    min_len_list = list_of_list[0]\n",
    "    for list_ in list_of_list:\n",
    "       if len(list_) < min_len:\n",
    "           min_len = len(list_)\n",
    "           min_len_list = list_\n",
    "\n",
    "    return min_len_list"
   ]
  },
  {
   "cell_type": "code",
   "execution_count": 88,
   "metadata": {},
   "outputs": [
    {
     "data": {
      "text/plain": [
       "[5, 5, 7, 8]"
      ]
     },
     "execution_count": 88,
     "metadata": {},
     "output_type": "execute_result"
    }
   ],
   "source": [
    "\n",
    "min_len_list"
   ]
  },
  {
   "cell_type": "code",
   "execution_count": 90,
   "metadata": {},
   "outputs": [],
   "source": [
    "def get_frequency_map(any_list):\n",
    "    \n",
    "    frequency_map = {}\n",
    "    \n",
    "    for elem in any_list:\n",
    "        if elem in frequency_map.keys():\n",
    "            frequency_map[elem] += 1\n",
    "        else:\n",
    "            frequency_map[elem] = 1\n",
    "\n",
    "    return frequency_map"
   ]
  },
  {
   "cell_type": "code",
   "execution_count": 92,
   "metadata": {},
   "outputs": [],
   "source": []
  },
  {
   "cell_type": "code",
   "execution_count": 94,
   "metadata": {},
   "outputs": [
    {
     "data": {
      "text/plain": [
       "{5: 2, 7: 1, 8: 1}"
      ]
     },
     "execution_count": 94,
     "metadata": {},
     "output_type": "execute_result"
    }
   ],
   "source": [
    "min_len_list_frequency_map"
   ]
  },
  {
   "cell_type": "code",
   "execution_count": 96,
   "metadata": {},
   "outputs": [
    {
     "name": "stdout",
     "output_type": "stream",
     "text": [
      "5 2\n",
      "7 1\n",
      "8 1\n"
     ]
    }
   ],
   "source": [
    "for key,value in min_len_list_frequency_map.items():\n",
    "    print(key,value)"
   ]
  },
  {
   "cell_type": "code",
   "execution_count": 98,
   "metadata": {},
   "outputs": [],
   "source": []
  },
  {
   "cell_type": "code",
   "execution_count": 102,
   "metadata": {},
   "outputs": [
    {
     "data": {
      "text/plain": [
       "{5: 2, 7: 0, 8: 1}"
      ]
     },
     "execution_count": 102,
     "metadata": {},
     "output_type": "execute_result"
    }
   ],
   "source": [
    "min_len_list_frequency_map"
   ]
  },
  {
   "cell_type": "code",
   "execution_count": 104,
   "metadata": {},
   "outputs": [],
   "source": [
    "def create_list_from_frequency_map(frequency_map):\n",
    "    final_list = []\n",
    "\n",
    "    for key,value in frequency_map.items():\n",
    "        final_list = final_list + [key]*value\n",
    "\n",
    "    return final_list"
   ]
  },
  {
   "cell_type": "code",
   "execution_count": 108,
   "metadata": {},
   "outputs": [],
   "source": [
    "def intersection(list_of_list):\n",
    "\n",
    "    '''This function returns the list of list'''\n",
    "\n",
    "    min_len_list = get_min_len_list(list_of_list)\n",
    "    min_len_list_frequency_map = get_frequency_map(min_len_list)\n",
    "\n",
    "    for key,value in min_len_list_frequency_map.items():\n",
    "        for list_ in list_of_list:\n",
    "            if value > list_.count(key):\n",
    "                min_len_list_frequency_map[key] = list_.count(key)\n",
    "\n",
    "    final_result = create_list_from_frequency_map(min_len_list_frequency_map)\n",
    "    return final_result\n",
    "    "
   ]
  },
  {
   "cell_type": "code",
   "execution_count": 110,
   "metadata": {},
   "outputs": [
    {
     "data": {
      "text/plain": [
       "[5, 5, 8]"
      ]
     },
     "execution_count": 110,
     "metadata": {},
     "output_type": "execute_result"
    }
   ],
   "source": [
    "intersection(list_of_list)"
   ]
  },
  {
   "cell_type": "markdown",
   "metadata": {
    "id": "_eBSo9ilXVqB"
   },
   "source": [
    "## Method 1"
   ]
  },
  {
   "cell_type": "code",
   "execution_count": null,
   "metadata": {
    "id": "WN7kubRILTgw"
   },
   "outputs": [],
   "source": [
    "lsts = [[5, 5],\n",
    "      [5, 5, 7, 8],\n",
    "      [5, 5, 8, 9]]"
   ]
  },
  {
   "cell_type": "code",
   "execution_count": null,
   "metadata": {
    "id": "GRp0zkyuLTgz"
   },
   "outputs": [],
   "source": [
    "def get_intersection_1(lsts):\n",
    "\n",
    "  min_len = len(lsts[0])\n",
    "  for l in lsts:\n",
    "      if len(l)<=min_len:\n",
    "          min_len = len(l)\n",
    "          min_len_list = l\n",
    "\n",
    "  d = {}\n",
    "  for elem in min_len_list:\n",
    "      if elem in d.keys():\n",
    "          d[elem] = d[elem]+1\n",
    "      else:\n",
    "          d[elem] = 1\n",
    "\n",
    "  for key in d.keys():\n",
    "    for l in lsts:\n",
    "      count = 0\n",
    "      for item in l:\n",
    "        if key==item:\n",
    "          count = count + 1\n",
    "\n",
    "      if d[key] > count:\n",
    "        d[key] = count\n",
    "\n",
    "  lst = []\n",
    "  for key, value in d.items():\n",
    "      for v in range(value):\n",
    "          lst.append(key)\n",
    "\n",
    "  return lst"
   ]
  },
  {
   "cell_type": "code",
   "execution_count": null,
   "metadata": {
    "colab": {
     "base_uri": "https://localhost:8080/",
     "height": 35
    },
    "id": "cAtjbPzrLThC",
    "outputId": "8dbd2277-dbce-4b74-f58e-d8048949baaf"
   },
   "outputs": [
    {
     "data": {
      "text/plain": [
       "[5, 5]"
      ]
     },
     "execution_count": 3,
     "metadata": {
      "tags": []
     },
     "output_type": "execute_result"
    }
   ],
   "source": [
    "get_intersection_1(lsts)"
   ]
  },
  {
   "cell_type": "markdown",
   "metadata": {
    "id": "STlQWSWRgJCe"
   },
   "source": [
    "*  Time Complexity: O(m^2 * n) where n -> no. of lists and m -> no. of elements in each list\n",
    "*  Auxiliary Space Complexity: O(m)\n",
    "\n"
   ]
  },
  {
   "cell_type": "markdown",
   "metadata": {
    "id": "a75cfTxPX4AB"
   },
   "source": [
    "## Method 2"
   ]
  },
  {
   "cell_type": "code",
   "execution_count": null,
   "metadata": {
    "id": "hYCX-PkcXMzL"
   },
   "outputs": [],
   "source": [
    "lsts = [[5, 5],\n",
    "      [5, 5, 7, 8],\n",
    "      [5, 5, 8, 9]]"
   ]
  },
  {
   "cell_type": "code",
   "execution_count": null,
   "metadata": {
    "id": "K32V7RJRa4Sb"
   },
   "outputs": [],
   "source": [
    "def get_intersection_2(lsts):\n",
    "\n",
    "  global_map = {}\n",
    "\n",
    "  for l in lsts:\n",
    "    temp_map = {}\n",
    "    for elem in l:\n",
    "      temp_map[elem] = temp_map.get(elem, 0) + 1\n",
    "\n",
    "    for key in temp_map:\n",
    "      if key not in global_map.keys():\n",
    "        global_map[key] = [1, temp_map[key]]\n",
    "      else:\n",
    "        value = global_map[key]\n",
    "        global_map[key] = [value[0] + 1, min(temp_map[key], value[1])]\n",
    "\n",
    "  answer_list = []\n",
    "  for key, value in global_map.items():\n",
    "    if value[0]==len(lsts):\n",
    "      answer_list += [key] * value[1]\n",
    "\n",
    "  return answer_list"
   ]
  },
  {
   "cell_type": "code",
   "execution_count": null,
   "metadata": {
    "colab": {
     "base_uri": "https://localhost:8080/",
     "height": 35
    },
    "id": "edmcmjjTY3Aj",
    "outputId": "94977e8e-f587-4289-ae9c-763113dc987a"
   },
   "outputs": [
    {
     "data": {
      "text/plain": [
       "[5, 5]"
      ]
     },
     "execution_count": 6,
     "metadata": {
      "tags": []
     },
     "output_type": "execute_result"
    }
   ],
   "source": [
    "get_intersection_2(lsts)"
   ]
  },
  {
   "cell_type": "markdown",
   "metadata": {
    "id": "R_nvNiVQYRm9"
   },
   "source": [
    "*  Time Complexity: O(m * n) where n -> no. of lists and m -> no. of elements in each list\n",
    "*  Auxiliary Space Complexity: O(m * n)\n",
    "\n"
   ]
  },
  {
   "cell_type": "markdown",
   "metadata": {
    "id": "YPZ2-0ErY8f6"
   },
   "source": [
    "## Method 3"
   ]
  },
  {
   "cell_type": "code",
   "execution_count": null,
   "metadata": {
    "id": "Ai-qnKscZKys"
   },
   "outputs": [],
   "source": [
    "lsts = [[5, 5],\n",
    "      [5, 5, 7, 8],\n",
    "      [5, 5, 8, 9]]"
   ]
  },
  {
   "cell_type": "code",
   "execution_count": null,
   "metadata": {
    "id": "0ZLhriAEXn0q"
   },
   "outputs": [],
   "source": [
    "def get_frequency_map(l):\n",
    "  map_ = {}\n",
    "  for elem in l:\n",
    "    map_[elem] = map_.get(elem, 0) + 1\n",
    "  return map_"
   ]
  },
  {
   "cell_type": "code",
   "execution_count": null,
   "metadata": {
    "id": "lOmhj4jCXNdP"
   },
   "outputs": [],
   "source": [
    "def get_intersection_3(lsts):\n",
    "\n",
    "  global_map = {}\n",
    "\n",
    "  for l in lsts:\n",
    "    temp_map = get_frequency_map(l)\n",
    "\n",
    "    for key in temp_map.keys():\n",
    "      if key not in global_map.keys():\n",
    "        global_map[key] = [1, temp_map[key]]\n",
    "      else:\n",
    "        value = global_map[key]\n",
    "        global_map[key] = [value[0] + 1, min(temp_map[key], value[1])]\n",
    "\n",
    "  answer_list = []\n",
    "  for key, value in global_map.items():\n",
    "    if value[0]==len(lsts):\n",
    "      answer_list += [key] * value[1]\n",
    "\n",
    "  return answer_list"
   ]
  },
  {
   "cell_type": "code",
   "execution_count": null,
   "metadata": {
    "colab": {
     "base_uri": "https://localhost:8080/",
     "height": 35
    },
    "id": "S66yoaVdZGXw",
    "outputId": "d8abe7c0-bf03-4fe0-bfd1-8fae64998662"
   },
   "outputs": [
    {
     "data": {
      "text/plain": [
       "[5, 5]"
      ]
     },
     "execution_count": 10,
     "metadata": {
      "tags": []
     },
     "output_type": "execute_result"
    }
   ],
   "source": [
    "get_intersection_3(lsts)"
   ]
  },
  {
   "cell_type": "markdown",
   "metadata": {
    "id": "eGhqcyXRZCjE"
   },
   "source": [
    "*  Time Complexity: O(m * n) where n -> no. of lists and m -> no. of elements in each list\n",
    "*  Auxiliary Space Complexity: O(m * n)\n",
    "\n"
   ]
  }
 ],
 "metadata": {
  "colab": {
   "provenance": [
    {
     "file_id": "https://gist.github.com/almabetterschool/963e6eb3f1da3926c0314682ab431621#file-guided-project-solution-intersection-of-lists-ipynb",
     "timestamp": 1738812422796
    }
   ]
  },
  "kernelspec": {
   "display_name": "Python [conda env:base] *",
   "language": "python",
   "name": "conda-base-py"
  },
  "language_info": {
   "codemirror_mode": {
    "name": "ipython",
    "version": 3
   },
   "file_extension": ".py",
   "mimetype": "text/x-python",
   "name": "python",
   "nbconvert_exporter": "python",
   "pygments_lexer": "ipython3",
   "version": "3.12.7"
  }
 },
 "nbformat": 4,
 "nbformat_minor": 4
}
