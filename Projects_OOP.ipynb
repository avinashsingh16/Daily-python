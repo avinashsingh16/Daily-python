{
  "nbformat": 4,
  "nbformat_minor": 0,
  "metadata": {
    "colab": {
      "provenance": [],
      "authorship_tag": "ABX9TyPFpj6EL8qJwLe908q6VTIl",
      "include_colab_link": true
    },
    "kernelspec": {
      "name": "python3",
      "display_name": "Python 3"
    },
    "language_info": {
      "name": "python"
    }
  },
  "cells": [
    {
      "cell_type": "markdown",
      "metadata": {
        "id": "view-in-github",
        "colab_type": "text"
      },
      "source": [
        "<a href=\"https://colab.research.google.com/github/avinashsingh16/Daily-python/blob/main/Projects_OOP.ipynb\" target=\"_parent\"><img src=\"https://colab.research.google.com/assets/colab-badge.svg\" alt=\"Open In Colab\"/></a>"
      ]
    },
    {
      "cell_type": "markdown",
      "source": [
        "1. Bank Account System\n",
        "\n",
        "🔸 Problem: Create a class BankAccount with methods to deposit, withdraw, and check balance.\n",
        "🔸 Requirements:\n",
        "\n",
        "\t•\tUse __init__() to set name and balance\n",
        "\t•\tAdd methods: deposit(amount), withdraw(amount), check_balance()\n",
        "\t•\tShow error if balance is insufficient during withdrawal\n",
        "  "
      ],
      "metadata": {
        "id": "zrSuyyi9HeOC"
      }
    },
    {
      "cell_type": "code",
      "execution_count": 9,
      "metadata": {
        "id": "SKYCl2koHCSD"
      },
      "outputs": [],
      "source": [
        "class BankAccount:\n",
        "  def __init__(self,name,balance):\n",
        "    self.name = name\n",
        "    self.balance = balance\n",
        "\n",
        "  def deposit(self,amount):\n",
        "    if amount > 0:\n",
        "      self.balance += amount\n",
        "\n",
        "      print(f\"You have deposited Rs.{amount} and your balance is {self.balance}\")\n",
        "    else:\n",
        "      print(\"Please enter a valid amount!\")\n",
        "\n",
        "  def withdraw(self, amount):\n",
        "    if amount > 0:\n",
        "      if amount <= self.balance:\n",
        "        self.balance -= amount\n",
        "        print(f\"You have withdrew Rs.{amount} and your balance is {self.balance}\")\n",
        "      else:\n",
        "        print(\"Insufficient balance!\")\n",
        "    else:\n",
        "      print(\"Please enter a valid amount!\")\n",
        "\n",
        "  def check_balance(self):\n",
        "    print(f\"Your current balance is Rs.{self.balance}\")"
      ]
    },
    {
      "cell_type": "code",
      "source": [
        "avinash = BankAccount('avi',2000)"
      ],
      "metadata": {
        "id": "sFCM1Yg1PZJi"
      },
      "execution_count": 10,
      "outputs": []
    },
    {
      "cell_type": "code",
      "source": [
        "deposit_amount = avinash.deposit(1000)"
      ],
      "metadata": {
        "colab": {
          "base_uri": "https://localhost:8080/"
        },
        "id": "wxpZSFnrPnaZ",
        "outputId": "fc3ddbf0-f075-4593-9369-625870d1acf9"
      },
      "execution_count": 11,
      "outputs": [
        {
          "output_type": "stream",
          "name": "stdout",
          "text": [
            "You have deposited Rs.1000 and your balance is 3000\n"
          ]
        }
      ]
    },
    {
      "cell_type": "code",
      "source": [
        "withdraw_amount = avinash.withdraw(500)"
      ],
      "metadata": {
        "colab": {
          "base_uri": "https://localhost:8080/"
        },
        "id": "7bLbLypeQ9JI",
        "outputId": "da575511-74ed-47bb-ea91-2d761c90a435"
      },
      "execution_count": 12,
      "outputs": [
        {
          "output_type": "stream",
          "name": "stdout",
          "text": [
            "You have withdrew Rs.500 and your balance is 2500\n"
          ]
        }
      ]
    },
    {
      "cell_type": "code",
      "source": [
        "check = avinash.check_balance()"
      ],
      "metadata": {
        "colab": {
          "base_uri": "https://localhost:8080/"
        },
        "id": "jFUX9RVWRDX6",
        "outputId": "2f937131-515f-47f6-9eee-948c378f167b"
      },
      "execution_count": 13,
      "outputs": [
        {
          "output_type": "stream",
          "name": "stdout",
          "text": [
            "Your current balance is Rs.2500\n"
          ]
        }
      ]
    },
    {
      "cell_type": "markdown",
      "source": [
        "2. Shopping Cart System\n",
        "\n",
        "🔸 Problem: Create a class ShoppingCart to manage items in a cart.\n",
        "🔸 Requirements:\n",
        "\n",
        "\t•\tAdd items with name and price\n",
        "\t•\tView total cost\n",
        "\t•\tRemove an item\n",
        "\t•\tList all items"
      ],
      "metadata": {
        "id": "se3qKanyY2yE"
      }
    },
    {
      "cell_type": "code",
      "source": [
        "class ShoppingCart:\n",
        "  def __init__(self,name,price):\n",
        "    self.name = name\n",
        "    self.price = price\n",
        "\n",
        "  def totalCost(self,quantity):\n",
        "    if quantity > 0:\n",
        "      self.quantity = quantity\n",
        "      return self.price * quantity\n",
        "      print(f\"The total cost of {quantity} is {self.price * quantity}\")\n",
        "\n",
        "    else:\n",
        "      print(\"Enter valid quantity\")\n",
        "\n",
        "\n",
        "  def removeItem(self,quantity):\n",
        "    if quantity > 0:"
      ],
      "metadata": {
        "id": "eDOqzUkDRIdi"
      },
      "execution_count": null,
      "outputs": []
    },
    {
      "cell_type": "markdown",
      "source": [
        " 3. Pet Management System\n",
        "\n",
        "🔸 Problem: Create a class Pet that stores pet name, type, and age.\n",
        "🔸 Requirements:\n",
        "\n",
        "\t•\tMethod to display details\n",
        "\t•\tMethod to check if the pet is a puppy (if age < 2)\n"
      ],
      "metadata": {
        "id": "BxwWVrrBv_oK"
      }
    },
    {
      "cell_type": "code",
      "source": [
        "class Pet:\n",
        "  def __init__(self,name,breed,age):\n",
        "    self.name = name\n",
        "    self.breed = breed\n",
        "    self.age = age\n",
        "\n",
        "  def petDetails(self):\n",
        "    print(f\"This {self.name} is of {self.breed} breed and is {self.age} years old\")\n",
        "\n",
        "  def checkPet(self,age):\n",
        "    if self.age <2:\n",
        "      print(\"Puppy\")\n",
        "\n",
        "    else:\n",
        "      print(\"Not Puppy\")\n"
      ],
      "metadata": {
        "id": "-6Cb4E37wpiy"
      },
      "execution_count": 28,
      "outputs": []
    },
    {
      "cell_type": "code",
      "source": [
        "new_pet = Pet('lucy','pomerian',1)\n",
        "call_dog = new_pet.petDetails()"
      ],
      "metadata": {
        "colab": {
          "base_uri": "https://localhost:8080/"
        },
        "id": "XxufXU9B0Dyj",
        "outputId": "be030129-41e5-42e6-bdcd-ad7c43d6e552"
      },
      "execution_count": 29,
      "outputs": [
        {
          "output_type": "stream",
          "name": "stdout",
          "text": [
            "This lucy is of pomerian breed and is 1 years old\n"
          ]
        }
      ]
    },
    {
      "cell_type": "code",
      "source": [
        "check_call_dog_age = new_pet.checkPet(1)"
      ],
      "metadata": {
        "colab": {
          "base_uri": "https://localhost:8080/"
        },
        "id": "lAPGExy908fx",
        "outputId": "9ef52a1f-cacf-41b5-b322-42a89d05edea"
      },
      "execution_count": 30,
      "outputs": [
        {
          "output_type": "stream",
          "name": "stdout",
          "text": [
            "Puppy\n"
          ]
        }
      ]
    },
    {
      "cell_type": "markdown",
      "source": [
        " 4. Student Report Card\n",
        "\n",
        "🔸 Problem: Create a class Student with name and a dictionary of subject: marks.\n",
        "🔸 Requirements:\n",
        "\n",
        "\t•\tMethod to calculate total and average\n",
        "\t•\tMethod to print report\n",
        "\t•\tBonus: Add a grade system based on average\n"
      ],
      "metadata": {
        "id": "duiKrlQ64UxU"
      }
    },
    {
      "cell_type": "code",
      "source": [
        "class Student:\n",
        "  def __init__(self,name):\n",
        "    self.name = name\n",
        "    self.marks_dict = {}\n",
        "\n",
        "  def add_marks(self,subject,marks):\n",
        "    self.marks_dict[subject] = marks\n",
        "    # return self.marks_dict\n",
        "    print(f\"The report of score card is {self.marks_dict}\")\n",
        "\n",
        "  def total_marks(self):\n",
        "    sum_marks = sum(self.marks_dict.values())\n",
        "    print(f\"The total marks scored by {self.name} is {sum_marks}\")\n",
        "\n",
        "  def average_marks(self):\n",
        "    avg_marks =  sum(self.marks_dict.values())/len(self.marks_dict.values())\n",
        "    print(f\"The average marks scored by {self.name} is {avg_marks}\")\n",
        "\n"
      ],
      "metadata": {
        "id": "Klmuofja2qFZ"
      },
      "execution_count": 41,
      "outputs": []
    },
    {
      "cell_type": "code",
      "source": [
        "student_1 = Student('Avinash')\n",
        "marks = student_1.add_marks('physics',95)\n",
        "# total = student_1.total_marks()"
      ],
      "metadata": {
        "colab": {
          "base_uri": "https://localhost:8080/"
        },
        "id": "JCJdOuMLIiAG",
        "outputId": "538113e1-c12c-42b5-d217-db1aa21de9f1"
      },
      "execution_count": 42,
      "outputs": [
        {
          "output_type": "stream",
          "name": "stdout",
          "text": [
            "The report of score card is {'physics': 95}\n"
          ]
        }
      ]
    },
    {
      "cell_type": "code",
      "source": [],
      "metadata": {
        "id": "edurgvW5JJlP"
      },
      "execution_count": null,
      "outputs": []
    }
  ]
}