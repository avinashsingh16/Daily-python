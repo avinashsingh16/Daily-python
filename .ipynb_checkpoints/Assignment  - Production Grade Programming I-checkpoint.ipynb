{
 "cells": [
  {
   "cell_type": "markdown",
   "metadata": {
    "id": "8WbUJEVzs8Bx"
   },
   "source": [
    "## <u>While doing this assignment only use those concepts which have been taught till now</u>"
   ]
  },
  {
   "cell_type": "markdown",
   "metadata": {
    "id": "77zLnpaNvNSp"
   },
   "source": [
    "# <u> Problem 1</u>\n",
    "\n",
    "### Create a class <code>Cylinder</code> which takes two attributes <code>radius</code> and <code>height</code>.\n",
    "\n",
    "### Create the following methods in this class:\n",
    "\n",
    "* ### method <code>volume()</code> which calculates the volume of the cyinder which is defined as $V  = \\pi r^2 h$\n",
    "\n",
    "* ### method <code>surface_area()</code> which calculates the area of the cyinder which is defined as $S  = 2\\pi r h$. Assume this is an open cylinder\n"
   ]
  },
  {
   "cell_type": "code",
   "execution_count": 16,
   "metadata": {
    "id": "-cWkCZ5OzX0G"
   },
   "outputs": [],
   "source": [
    "# Write your code below. Take pi as 3.14\n",
    "class Cylinder:\n",
    "    def __init__(self,radius,height):\n",
    "        self.radius = radius\n",
    "        self.height = height\n",
    "\n",
    "    def volume(self):\n",
    "        return 3.14 * self.radius * self.radius * self.height\n",
    "\n",
    "    def surface_area(self):\n",
    "        return 2 * 3.14 * self.radius * self.height\n",
    "\n",
    "\n",
    "\n",
    "\n",
    "\n",
    "\n",
    "\n",
    "\n",
    "\n",
    "\n",
    "\n",
    "\n",
    "\n",
    "\n",
    "\n",
    "\n",
    "\n"
   ]
  },
  {
   "cell_type": "code",
   "execution_count": 30,
   "metadata": {
    "id": "tgS3mhN-18b_"
   },
   "outputs": [
    {
     "data": {
      "text/plain": [
       "314.0"
      ]
     },
     "execution_count": 30,
     "metadata": {},
     "output_type": "execute_result"
    }
   ],
   "source": [
    "# Check for sample inputs\n",
    "cy1 = Cylinder(5,4)\n",
    "cy1.volume()\n",
    "# cy1.surface_area()\n",
    "\n",
    "\n",
    "\n",
    "\n"
   ]
  },
  {
   "cell_type": "markdown",
   "metadata": {
    "id": "KjPWYK0Rs8By"
   },
   "source": [
    "## <u>Problem 2</u>\n",
    "\n",
    "### You started your own money wallet where your customers can create their accounts and they can either deposit or withdraw money from this wallet.\n",
    "\n",
    "### Write a Python class <code>BankAccount</code> which takes the balance as an attribute. You can initialize the balance with 0 because any new account will have 0 rupees in their wallet. Next write two methods for your class :\n",
    "\n",
    "* #### <code>withdraw()</code> method which takes the amount to be withdrawn as an argument and returns the balance after the withdrawal\n",
    "\n",
    "* #### <code>deposit()</code> method which takes the amount to be deposited as an argument and returns the balance after the deposit.\n",
    "\n",
    "### Keep in mind that if the balance to be withdrawn exceeds the current balance, it should display a message that \"Not enough balance in your account\"\n"
   ]
  },
  {
   "cell_type": "code",
   "execution_count": 48,
   "metadata": {
    "id": "RxVZTrenzfHC"
   },
   "outputs": [],
   "source": [
    "# Write your BankAccount class below\n",
    "\n",
    "class BankAccount:\n",
    "    def __init__(self,balance=0):\n",
    "        self.balance = balance\n",
    "       \n",
    "\n",
    "    def withdraw(self,amount):\n",
    "        if (self.balance <= 0):\n",
    "            print(\"No suffeciant Balance\")\n",
    "        elif (self.balance >= amount):\n",
    "            self.balance -= amount\n",
    "        else:\n",
    "            print(\"Not enough balance in your account\")\n",
    "\n",
    "    def deposit(self,amount):\n",
    "        if (amount <= 0):\n",
    "            print(\"Please enter the correct amount\")\n",
    "\n",
    "        else:\n",
    "            self.balance += amount\n",
    "    \n",
    "\n",
    "\n",
    "\n",
    "\n",
    "\n",
    "\n",
    "\n",
    "\n",
    "\n",
    "\n",
    "\n",
    "\n",
    "\n",
    "\n"
   ]
  },
  {
   "cell_type": "code",
   "execution_count": 76,
   "metadata": {
    "id": "N1Yhpkiws8B3"
   },
   "outputs": [
    {
     "name": "stdout",
     "output_type": "stream",
     "text": [
      "2500\n",
      "2000\n",
      "3000\n"
     ]
    }
   ],
   "source": [
    "# Create two instances of this class for two customers\n",
    "acc1 = BankAccount(balance = 2000)\n",
    "acc1.deposit(500)\n",
    "# print(acc1.withdraw(100))\n",
    "# acc1.deposit(50)\n",
    "print(acc1.balance)\n",
    "acc1.withdraw(500)\n",
    "print(acc1.balance)\n",
    "acc1.deposit(1000)\n",
    "print(acc1.balance)\n"
   ]
  },
  {
   "cell_type": "markdown",
   "metadata": {
    "id": "mSTxPcO3fWeX"
   },
   "source": [
    "### Next add some amount and withdraw some another amount for both the customers."
   ]
  },
  {
   "cell_type": "code",
   "execution_count": 78,
   "metadata": {
    "id": "KpMdlB5Fs8B8"
   },
   "outputs": [
    {
     "name": "stdout",
     "output_type": "stream",
     "text": [
      "2500\n",
      "2000\n",
      "3000\n"
     ]
    }
   ],
   "source": [
    "# Deposit some amount and withdrawing some amount from the two accounts and check if your method works fine\n",
    "\n",
    "acc1 = BankAccount(balance = 2000)\n",
    "acc1.deposit(500)\n",
    "# print(acc1.withdraw(100))\n",
    "# acc1.deposit(50)\n",
    "print(acc1.balance)\n",
    "acc1.withdraw(500)\n",
    "print(acc1.balance)\n",
    "acc1.deposit(1000)\n",
    "print(acc1.balance)\n",
    "\n",
    "\n",
    "\n",
    "\n",
    "\n",
    "\n",
    "\n"
   ]
  },
  {
   "cell_type": "markdown",
   "metadata": {
    "id": "5qd8g8UUs8CM"
   },
   "source": [
    "## <u>Problem 3 </u>\n",
    "\n",
    "### Create a class <code>Time </code> which takes two inputs hours and minutes to instantiate.\n",
    "*  #### Construct a method <code>DisplayTime()</code> which displays the time in AM/PM formats. For example if the input is 14 hours and 45 mins, then this method will print \"The time is 2:45 PM\". If the inputted hours exceeds 23 then print the message \"The input hours should be less than 24\" and if the inputted minutes exceeds 59 then print the message \"The input minutes should be less than 60.\" Also if the input is 12 hours 30 minutes, then the displayed time would be 12:30 PM\n",
    "* #### Construct a method <code>DisplayRatio()</code> which should display the ratio of minutes to hours. For example, (8 hours and  16 mins) should display 2. Use <code>try</code>, <code>except</code> block to account for ZeroDivisionError."
   ]
  },
  {
   "cell_type": "code",
   "execution_count": 111,
   "metadata": {
    "id": "FBJy9Sq_s8CN"
   },
   "outputs": [],
   "source": [
    "class Time:\n",
    "    def __init__(self,hours,minutes):\n",
    "        self.hours = hours\n",
    "        self.minutes = minutes\n",
    "\n",
    "    def DisplayTime(self):\n",
    "        if self.hours >= 24:\n",
    "            return \"please enter the valid time input\"\n",
    "        elif self.hours == 0:\n",
    "            return f\"12:{self.minutes:02d} AM\"\n",
    "        elif self.hours >0 and self.hours < 12:\n",
    "            return f\"{self.hours}:{self.minutes:02d} AM\"\n",
    "        elif self.hours == 12:\n",
    "            return f\"12:{self.minutes:02d} PM\"\n",
    "        elif self.hours > 12 and self.hours < 24:\n",
    "            return f\"{self.hours-12}:{self.minutes:02d} PM\"\n",
    "            \n",
    "            \n",
    "    def DisplayRatio(self):\n",
    "        try:\n",
    "            return self.minutes / self.hours\n",
    "        except ZeroDivisionError: \n",
    "            return \"Error: Division by zero is not allowed (hours cannot be zero).\"\n",
    "\n",
    "\n",
    "\n",
    "\n",
    "\n",
    "\n",
    "\n",
    "\n",
    "\n",
    "\n",
    "\n",
    "\n",
    "\n",
    "\n",
    "\n",
    "\n",
    "\n",
    "\n",
    "\n",
    "\n"
   ]
  },
  {
   "cell_type": "code",
   "execution_count": 113,
   "metadata": {},
   "outputs": [],
   "source": [
    "# calculate_time = Time()"
   ]
  },
  {
   "cell_type": "code",
   "execution_count": 115,
   "metadata": {
    "id": "zywXa51d6Eev"
   },
   "outputs": [
    {
     "name": "stdout",
     "output_type": "stream",
     "text": [
      "1.9565217391304348\n",
      "1.4705882352941178\n",
      "2.8333333333333335\n",
      "4.785714285714286\n",
      "1.0526315789473684\n",
      "7.5\n",
      "Error: Division by zero is not allowed (hours cannot be zero).\n"
     ]
    }
   ],
   "source": [
    "# Check for few sample inputs of hours and mins\n",
    "hour_min_list = [(23,45), (34,50), (12,34), (14,67),(19,20), (2,15), (0, 10)]\n",
    "\n",
    "# Using a for loop display the corresponding 12 hour time format for the above hour_min_list\n",
    "for hour_min in hour_min_list:\n",
    "    time = Time(*hour_min)\n",
    "    print(time.DisplayTime())\n",
    "    \n",
    "    \n",
    "\n",
    "\n",
    "\n",
    "\n",
    "\n",
    "# Also display the corresponding ratios for the above list\n",
    "for hour_min in hour_min_list:\n",
    "    display_time_ratio = Time(*hour_min)\n",
    "    print(display_time_ratio.DisplayRatio())\n",
    "\n"
   ]
  },
  {
   "cell_type": "code",
   "execution_count": null,
   "metadata": {
    "id": "mgcu1_SAjAqF"
   },
   "outputs": [],
   "source": []
  }
 ],
 "metadata": {
  "colab": {
   "provenance": [
    {
     "file_id": "1xolRhKWGwhEEaMGc-wYpLJVZLKk-tXWq",
     "timestamp": 1738557503674
    },
    {
     "file_id": "1boTpr2mw9fpgavbo-MKSROWPPlvn1yke",
     "timestamp": 1602655481300
    }
   ]
  },
  "kernelspec": {
   "display_name": "Python [conda env:base] *",
   "language": "python",
   "name": "conda-base-py"
  },
  "language_info": {
   "codemirror_mode": {
    "name": "ipython",
    "version": 3
   },
   "file_extension": ".py",
   "mimetype": "text/x-python",
   "name": "python",
   "nbconvert_exporter": "python",
   "pygments_lexer": "ipython3",
   "version": "3.12.7"
  }
 },
 "nbformat": 4,
 "nbformat_minor": 4
}
