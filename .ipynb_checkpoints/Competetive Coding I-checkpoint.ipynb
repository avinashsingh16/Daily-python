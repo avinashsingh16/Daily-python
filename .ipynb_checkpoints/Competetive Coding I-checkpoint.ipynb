{
 "cells": [
  {
   "cell_type": "markdown",
   "metadata": {
    "id": "XA-b8BLzYrbe"
   },
   "source": [
    "\n",
    "# Time : 1 hour\n",
    "\n",
    "# Problem Statement"
   ]
  },
  {
   "cell_type": "markdown",
   "metadata": {
    "id": "soIV-F7Wcbp3"
   },
   "source": [
    "### A student is taking a cryptography class and has found anagrams to be very useful. Two strings are anagrams of each other if the first string's letters can be rearranged to form the second string. In other words, both strings must contain the same exact letters in the same exact frequency. For example, bacdc and dcbac are anagrams, but bacdc and dcbad are not.\n",
    "\n",
    "### The student decides on an encryption scheme that involves two large strings. The encryption is dependent on the minimum number of character deletions required to make the two strings anagrams. You need to determine this number.\n",
    "\n",
    "### Given two strings, $a$ and $b$, that may or may not be of the same length, determine the minimum number of character deletions required to make $a$ and $b$ anagrams. Any characters can be deleted from either of the strings. The strings $a$ and $b$ consist of lowercase English alphabets."
   ]
  },
  {
   "cell_type": "markdown",
   "metadata": {
    "id": "TS0zgz0PcfYz"
   },
   "source": [
    "**Example**\n",
    "\n",
    "<code>a = 'cde'</code>\n",
    "\n",
    "<code>b = 'dcf' </code>"
   ]
  },
  {
   "cell_type": "markdown",
   "metadata": {
    "id": "kxZ3mdXsckZm"
   },
   "source": [
    "### Delete $e$ from $a$ and $f$ from $b$ so that the remaining strings are $cd$ and $dc$ which are anagrams. This takes 2 character deletions."
   ]
  },
  {
   "cell_type": "markdown",
   "metadata": {
    "id": "1QlkSP3KcozS"
   },
   "source": [
    "## **Function Description**\n",
    "\n",
    "### Create a <code>makeAnagram</code> function below.\n",
    "\n",
    "### **Inputs:**\n",
    "\n",
    "### string a: a string\n",
    "\n",
    "### string b: another string\n",
    "\n",
    "### **Output:**\n",
    "\n",
    "### int: the minimum total characters that must be deleted"
   ]
  },
  {
   "cell_type": "markdown",
   "metadata": {
    "id": "-woYEa44Z-Cf"
   },
   "source": [
    "# Solution"
   ]
  },
  {
   "cell_type": "code",
   "execution_count": 37,
   "metadata": {
    "id": "sJ6O2MtIZ9dP"
   },
   "outputs": [
    {
     "name": "stdout",
     "output_type": "stream",
     "text": [
      "0\n",
      "2\n"
     ]
    }
   ],
   "source": [
    "# create an anagram function\n",
    "def makeAnagram(str1, str2):\n",
    "    # Step 1: Create frequency dictionaries\n",
    "    freq1 = {}  # Dictionary for str1\n",
    "    freq2 = {}  # Dictionary for str2\n",
    "    \n",
    "    # Count frequency of characters in str1\n",
    "    for char in str1:\n",
    "        freq1[char] = freq1.get(char, 0) + 1\n",
    "    \n",
    "    # Count frequency of characters in str2\n",
    "    for char in str2:\n",
    "        freq2[char] = freq2.get(char, 0) + 1\n",
    "\n",
    "    # Step 2: Calculate minimum deletions needed\n",
    "    deletions = 0\n",
    "    all_chars = set(freq1.keys()).union(set(freq2.keys()))  # Get all unique characters\n",
    "    \n",
    "    for char in all_chars:\n",
    "        count1 = freq1.get(char, 0)  # Get count from str1 (default 0 if not present)\n",
    "        count2 = freq2.get(char, 0)  # Get count from str2 (default 0 if not present)\n",
    "        deletions += abs(count1 - count2)  # Add absolute difference\n",
    "\n",
    "    return deletions\n",
    "\n",
    "# Example usage:\n",
    "str1 = \"bacdc\"\n",
    "str2 = \"dcbac\"\n",
    "print(makeAnagram(str1, str2))  # Output: 0 (They are already anagrams)\n",
    "\n",
    "str1 = \"bacdc\"\n",
    "str2 = \"dcbad\"\n",
    "print(makeAnagram(str1, str2))\n",
    "        \n",
    "   \n",
    "        \n",
    "    \n",
    "\n"
   ]
  },
  {
   "cell_type": "code",
   "execution_count": 17,
   "metadata": {
    "id": "COgSp7CXYczM"
   },
   "outputs": [
    {
     "name": "stdout",
     "output_type": "stream",
     "text": [
      "The a is in str2\n",
      "The b is in str2\n",
      "The c is in str2\n"
     ]
    }
   ],
   "source": [
    "makeAnagram(\"abcd\",\"abce\")"
   ]
  },
  {
   "cell_type": "code",
   "execution_count": 13,
   "metadata": {},
   "outputs": [
    {
     "name": "stdout",
     "output_type": "stream",
     "text": [
      "The a is in str2\n",
      "The b is in str2\n",
      "The c is in str2\n",
      "The d is in str2\n"
     ]
    }
   ],
   "source": [
    "str1 = \"\"\n",
    "str2 = \"abcd\"\n",
    "for el in str1:\n",
    "    if el in str2:\n",
    "        print(f\"The {el} is in str2\")"
   ]
  },
  {
   "cell_type": "code",
   "execution_count": 19,
   "metadata": {},
   "outputs": [
    {
     "name": "stdout",
     "output_type": "stream",
     "text": [
      "No deletions needed\n"
     ]
    }
   ],
   "source": [
    "# \tIf both strings are already anagrams → No deletions needed.\n",
    "str1 = \"abc\"\n",
    "str2 = \"abc\"\n",
    "if str1 == str2:\n",
    "    print(\"No deletions needed\")"
   ]
  },
  {
   "cell_type": "code",
   "execution_count": 35,
   "metadata": {},
   "outputs": [
    {
     "name": "stdout",
     "output_type": "stream",
     "text": [
      "{'a': 1}\n",
      "{'b': 5}\n",
      "{'c': 2}\n",
      "{'b': 5}\n",
      "{'d': 3}\n",
      "{'b': 5}\n",
      "{'d': 3}\n",
      "{'b': 5}\n",
      "{'d': 3}\n",
      "{'b': 5}\n",
      "{'c': 2}\n",
      "{'e': 3}\n",
      "{'e': 3}\n",
      "{'e': 3}\n",
      "{'f': 1}\n",
      "{'g': 1}\n"
     ]
    }
   ],
   "source": []
  },
  {
   "cell_type": "code",
   "execution_count": null,
   "metadata": {},
   "outputs": [],
   "source": []
  }
 ],
 "metadata": {
  "colab": {
   "name": "Competetive Coding I.ipynb",
   "provenance": [
    {
     "file_id": "https://gist.github.com/almabetterschool/6d7bff27eb0fdd8274b3676342297439#file-competetive-coding-i-ipynb",
     "timestamp": 1738639565483
    }
   ]
  },
  "kernelspec": {
   "display_name": "Python [conda env:base] *",
   "language": "python",
   "name": "conda-base-py"
  },
  "language_info": {
   "codemirror_mode": {
    "name": "ipython",
    "version": 3
   },
   "file_extension": ".py",
   "mimetype": "text/x-python",
   "name": "python",
   "nbconvert_exporter": "python",
   "pygments_lexer": "ipython3",
   "version": "3.12.7"
  }
 },
 "nbformat": 4,
 "nbformat_minor": 4
}
